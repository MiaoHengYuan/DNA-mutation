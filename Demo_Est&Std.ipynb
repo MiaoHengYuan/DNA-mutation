{
 "cells": [
  {
   "cell_type": "code",
   "execution_count": 1,
   "id": "53c1cf45",
   "metadata": {},
   "outputs": [],
   "source": [
    "import pandas as pd\n",
    "import numpy as np\n",
    "import scipy\n",
    "from matplotlib import pyplot as plt\n",
    "from scipy import stats\n",
    "import math\n",
    "import scipy.optimize\n",
    "from Function_set import *\n",
    "import tqdm\n",
    "import sys\n",
    "import os\n",
    "import pickle\n",
    "import copy"
   ]
  },
  {
   "cell_type": "code",
   "execution_count": 2,
   "id": "ba5df1a7",
   "metadata": {},
   "outputs": [],
   "source": [
    "df_breast = pd.read_csv('/Users/mhy/Desktop/Project/AlexandrovEtAI/somatic_mutation_data/Breast/Breast_raw_mutations_data.txt',\\\n",
    "                        delimiter = \"\\t\", header=None)"
   ]
  },
  {
   "cell_type": "markdown",
   "id": "48617e52",
   "metadata": {},
   "source": [
    "##### Here show what data looks like"
   ]
  },
  {
   "cell_type": "code",
   "execution_count": 3,
   "id": "5878a640",
   "metadata": {
    "scrolled": true
   },
   "outputs": [
    {
     "data": {
      "text/html": [
       "<div>\n",
       "<style scoped>\n",
       "    .dataframe tbody tr th:only-of-type {\n",
       "        vertical-align: middle;\n",
       "    }\n",
       "\n",
       "    .dataframe tbody tr th {\n",
       "        vertical-align: top;\n",
       "    }\n",
       "\n",
       "    .dataframe thead th {\n",
       "        text-align: right;\n",
       "    }\n",
       "</style>\n",
       "<table border=\"1\" class=\"dataframe\">\n",
       "  <thead>\n",
       "    <tr style=\"text-align: right;\">\n",
       "      <th></th>\n",
       "      <th>0</th>\n",
       "      <th>1</th>\n",
       "      <th>2</th>\n",
       "      <th>3</th>\n",
       "      <th>4</th>\n",
       "      <th>5</th>\n",
       "      <th>6</th>\n",
       "      <th>7</th>\n",
       "    </tr>\n",
       "  </thead>\n",
       "  <tbody>\n",
       "    <tr>\n",
       "      <th>0</th>\n",
       "      <td>PD3851a</td>\n",
       "      <td>indel</td>\n",
       "      <td>10</td>\n",
       "      <td>60723391</td>\n",
       "      <td>60723409</td>\n",
       "      <td>CAGAGATTGCAGGAAAAAA</td>\n",
       "      <td>-</td>\n",
       "      <td>ORIGINAL-DATA</td>\n",
       "    </tr>\n",
       "    <tr>\n",
       "      <th>1</th>\n",
       "      <td>PD3851a</td>\n",
       "      <td>indel</td>\n",
       "      <td>1</td>\n",
       "      <td>220948160</td>\n",
       "      <td>220948161</td>\n",
       "      <td>TG</td>\n",
       "      <td>-</td>\n",
       "      <td>ORIGINAL-DATA</td>\n",
       "    </tr>\n",
       "    <tr>\n",
       "      <th>2</th>\n",
       "      <td>PD3851a</td>\n",
       "      <td>indel</td>\n",
       "      <td>12</td>\n",
       "      <td>21374558</td>\n",
       "      <td>21374561</td>\n",
       "      <td>ACAA</td>\n",
       "      <td>-</td>\n",
       "      <td>ORIGINAL-DATA</td>\n",
       "    </tr>\n",
       "    <tr>\n",
       "      <th>3</th>\n",
       "      <td>PD3851a</td>\n",
       "      <td>indel</td>\n",
       "      <td>12</td>\n",
       "      <td>59999008</td>\n",
       "      <td>59999008</td>\n",
       "      <td>C</td>\n",
       "      <td>-</td>\n",
       "      <td>ORIGINAL-DATA</td>\n",
       "    </tr>\n",
       "    <tr>\n",
       "      <th>4</th>\n",
       "      <td>PD3851a</td>\n",
       "      <td>indel</td>\n",
       "      <td>14</td>\n",
       "      <td>52111863</td>\n",
       "      <td>52111865</td>\n",
       "      <td>TTC</td>\n",
       "      <td>-</td>\n",
       "      <td>ORIGINAL-DATA</td>\n",
       "    </tr>\n",
       "    <tr>\n",
       "      <th>...</th>\n",
       "      <td>...</td>\n",
       "      <td>...</td>\n",
       "      <td>...</td>\n",
       "      <td>...</td>\n",
       "      <td>...</td>\n",
       "      <td>...</td>\n",
       "      <td>...</td>\n",
       "      <td>...</td>\n",
       "    </tr>\n",
       "    <tr>\n",
       "      <th>736445</th>\n",
       "      <td>TCGA-GI-A2C8-01A-11D-A16D-09</td>\n",
       "      <td>subs</td>\n",
       "      <td>X</td>\n",
       "      <td>18961899</td>\n",
       "      <td>18961899</td>\n",
       "      <td>C</td>\n",
       "      <td>A</td>\n",
       "      <td>ORIGINAL-DATA</td>\n",
       "    </tr>\n",
       "    <tr>\n",
       "      <th>736446</th>\n",
       "      <td>TCGA-GI-A2C8-01A-11D-A16D-09</td>\n",
       "      <td>subs</td>\n",
       "      <td>X</td>\n",
       "      <td>24382956</td>\n",
       "      <td>24382956</td>\n",
       "      <td>G</td>\n",
       "      <td>A</td>\n",
       "      <td>ORIGINAL-DATA</td>\n",
       "    </tr>\n",
       "    <tr>\n",
       "      <th>736447</th>\n",
       "      <td>TCGA-GI-A2C8-01A-11D-A16D-09</td>\n",
       "      <td>subs</td>\n",
       "      <td>X</td>\n",
       "      <td>49074448</td>\n",
       "      <td>49074448</td>\n",
       "      <td>A</td>\n",
       "      <td>T</td>\n",
       "      <td>ORIGINAL-DATA</td>\n",
       "    </tr>\n",
       "    <tr>\n",
       "      <th>736448</th>\n",
       "      <td>TCGA-GI-A2C8-01A-11D-A16D-09</td>\n",
       "      <td>subs</td>\n",
       "      <td>X</td>\n",
       "      <td>53966853</td>\n",
       "      <td>53966853</td>\n",
       "      <td>T</td>\n",
       "      <td>A</td>\n",
       "      <td>ORIGINAL-DATA</td>\n",
       "    </tr>\n",
       "    <tr>\n",
       "      <th>736449</th>\n",
       "      <td>TCGA-GI-A2C8-01A-11D-A16D-09</td>\n",
       "      <td>subs</td>\n",
       "      <td>X</td>\n",
       "      <td>5821686</td>\n",
       "      <td>5821686</td>\n",
       "      <td>C</td>\n",
       "      <td>T</td>\n",
       "      <td>ORIGINAL-DATA</td>\n",
       "    </tr>\n",
       "  </tbody>\n",
       "</table>\n",
       "<p>736450 rows × 8 columns</p>\n",
       "</div>"
      ],
      "text/plain": [
       "                                   0      1   2          3          4  \\\n",
       "0                            PD3851a  indel  10   60723391   60723409   \n",
       "1                            PD3851a  indel   1  220948160  220948161   \n",
       "2                            PD3851a  indel  12   21374558   21374561   \n",
       "3                            PD3851a  indel  12   59999008   59999008   \n",
       "4                            PD3851a  indel  14   52111863   52111865   \n",
       "...                              ...    ...  ..        ...        ...   \n",
       "736445  TCGA-GI-A2C8-01A-11D-A16D-09   subs   X   18961899   18961899   \n",
       "736446  TCGA-GI-A2C8-01A-11D-A16D-09   subs   X   24382956   24382956   \n",
       "736447  TCGA-GI-A2C8-01A-11D-A16D-09   subs   X   49074448   49074448   \n",
       "736448  TCGA-GI-A2C8-01A-11D-A16D-09   subs   X   53966853   53966853   \n",
       "736449  TCGA-GI-A2C8-01A-11D-A16D-09   subs   X    5821686    5821686   \n",
       "\n",
       "                          5  6              7  \n",
       "0       CAGAGATTGCAGGAAAAAA  -  ORIGINAL-DATA  \n",
       "1                        TG  -  ORIGINAL-DATA  \n",
       "2                      ACAA  -  ORIGINAL-DATA  \n",
       "3                         C  -  ORIGINAL-DATA  \n",
       "4                       TTC  -  ORIGINAL-DATA  \n",
       "...                     ... ..            ...  \n",
       "736445                    C  A  ORIGINAL-DATA  \n",
       "736446                    G  A  ORIGINAL-DATA  \n",
       "736447                    A  T  ORIGINAL-DATA  \n",
       "736448                    T  A  ORIGINAL-DATA  \n",
       "736449                    C  T  ORIGINAL-DATA  \n",
       "\n",
       "[736450 rows x 8 columns]"
      ]
     },
     "execution_count": 3,
     "metadata": {},
     "output_type": "execute_result"
    }
   ],
   "source": [
    "df_breast"
   ]
  },
  {
   "cell_type": "markdown",
   "id": "75d12151",
   "metadata": {},
   "source": [
    "##### Below is same with \"fit_function\" in Feature_set.py, only difference is that we not calculate R-square calculations but compute standard errors instead. so we use different name."
   ]
  },
  {
   "cell_type": "code",
   "execution_count": 3,
   "id": "a95be4c3",
   "metadata": {},
   "outputs": [],
   "source": [
    "def FitWithRecord(df, distance, c, threshold_list=[]):\n",
    "    sliding_time = int(len(distance))\n",
    "    dist_exp = getattr(stats, 'expon')\n",
    "    dist_powerlaw = getattr(stats, 'powerlaw')\n",
    "    coefficient_dict = {}\n",
    "    coefficient_dict_new = {}\n",
    "    \n",
    "    for i in range(sliding_time):\n",
    "        threshold = threshold_list[i]\n",
    "        length = threshold/100\n",
    "        x_, y_, x_n, y_n = hist_creat(df, i, c, 'short', threshold, length)\n",
    "        x_l, y_l, x_nl, y_nl = hist_creat(df, i, c, 'long', threshold, length)\n",
    "\n",
    "        y_raw = [x for x in distance[i] if (math.isnan(x) == False) & (x <= threshold)]\n",
    "        y_rawl = [x for x in distance[i] if (math.isnan(x) == False) & (x > threshold)]\n",
    "\n",
    "        x_n, y_n = del_zero(x_n, y_n)\n",
    "        x_nl, y_nl = del_zero(x_nl, y_nl)\n",
    "        x_, y_ = del_zero(x_, y_)\n",
    "        x_l, y_l = del_zero(x_l, y_l)\n",
    "        \n",
    "        ### for short distance ###\n",
    "        short_dict = {}\n",
    "        if len(y_raw)==0:\n",
    "            indicator = 2\n",
    "        else:\n",
    "            param_exp = dist_exp.fit(y_raw)\n",
    "            D_exp, p_exp = stats.kstest(y_raw, 'expon', args=param_exp)\n",
    "            param_law = dist_powerlaw.fit(y_raw)\n",
    "            D_law, p_law = stats.kstest(y_raw, 'powerlaw', args=param_law)\n",
    "            indicator = list([D_exp, D_law]).index(min(D_exp, D_law))\n",
    "        \n",
    "        if indicator == 0:  ### expon\n",
    "            if len(y_) <=1:\n",
    "                short_dict['expon'] = ([np.nan, np.nan], np.nan)\n",
    "            else:\n",
    "                if len(y_n)<=1:\n",
    "                    params_, cv_ = scipy.optimize.curve_fit(linear_function, x_, np.log10(y_))\n",
    "                    std_er=sum(np.square(np.log10(y_)-linear_function(params_[0],np.array(x_),params_[1])))/len(x_)\n",
    "                    std_er = np.sqrt(std_er)\n",
    "                    short_dict['expon'] = (params_, std_er)\n",
    "                else:\n",
    "                    params_, cv_ = scipy.optimize.curve_fit(linear_function, x_n, np.log10(y_n))\n",
    "                    std_er=sum(np.square(np.log10(y_n)-linear_function(params_[0],np.array(x_n),params_[1])))/len(x_n)\n",
    "                    std_er = np.sqrt(std_er)\n",
    "                    short_dict['expon'] = (params_, std_er)\n",
    "\n",
    "        if indicator == 1: ### power-law\n",
    "            if len(y_) <=1:\n",
    "                short_dict['powerlaw'] = ([np.nan, np.nan], np.nan)\n",
    "            else:\n",
    "                if len(y_n)<=1:\n",
    "                    params_, cv_ = scipy.optimize.curve_fit(linear_function, np.log10(x_), np.log10(y_))\n",
    "                    std_er=sum(np.square(np.log10(y_)-linear_function(params_[0],np.array(np.log10(x_)),params_[1])))/len(x_)\n",
    "                    std_er = np.sqrt(std_er)\n",
    "                    short_dict['powerlaw'] = (params_, std_er)\n",
    "                else:\n",
    "                    params_, cv_ = scipy.optimize.curve_fit(linear_function, np.log10(x_n), np.log10(y_n))\n",
    "                    std_er=sum(np.square(np.log10(y_n)-linear_function(params_[0],np.array(np.log10(x_n)),params_[1])))/len(x_n)\n",
    "                    std_er = np.sqrt(std_er)\n",
    "                    short_dict['powerlaw'] = (params_, std_er)\n",
    "\n",
    "        if indicator == 2:\n",
    "            short_dict['empty'] = ([np.nan, np.nan], np.nan)\n",
    "            \n",
    "        ### for long distance ###\n",
    "        long_dict = {}\n",
    "        if len(y_rawl)==0:\n",
    "            indicator = 2\n",
    "        else:\n",
    "            param_exp = dist_exp.fit(y_rawl)\n",
    "            D_exp, p_exp = stats.kstest(y_rawl, 'expon', args=param_exp)\n",
    "            param_law = dist_powerlaw.fit(y_rawl)\n",
    "            D_law, p_law = stats.kstest(y_rawl, 'powerlaw', args=param_law)\n",
    "            indicator = list([D_exp, D_law]).index(min(D_exp, D_law))\n",
    "\n",
    "        if indicator == 0:  ### expon\n",
    "            if len(y_l) <=1:\n",
    "                long_dict['expon'] = ([np.nan, np.nan], np.nan)\n",
    "            else:\n",
    "                if len(y_nl)<=1:\n",
    "                    params_, cv_ = scipy.optimize.curve_fit(linear_function, x_l, np.log10(y_l))\n",
    "                    std_er=sum(np.square(np.log10(y_l)-linear_function(params_[0],np.array(x_l),params_[1])))/len(x_l)\n",
    "                    std_er = np.sqrt(std_er)\n",
    "                    long_dict['expon'] = (params_, std_er)\n",
    "                else:\n",
    "                    params_, cv_ = scipy.optimize.curve_fit(linear_function, x_nl, np.log10(y_nl))\n",
    "                    std_er=sum(np.square(np.log10(y_nl)-linear_function(params_[0],np.array(x_nl),params_[1])))/len(x_nl)\n",
    "                    std_er = np.sqrt(std_er)\n",
    "                    long_dict['expon'] = (params_, std_er)\n",
    "\n",
    "        if indicator == 1:  ### powerlaw\n",
    "            if len(y_l) <=1:\n",
    "                long_dict['powerlaw'] = ([np.nan, np.nan], np.nan)\n",
    "            else:\n",
    "                if len(y_nl)<=1:\n",
    "                    params_, cv_ = scipy.optimize.curve_fit(linear_function, np.log10(x_l), np.log10(y_l))\n",
    "                    std_er=sum(np.square(np.log10(y_l)-linear_function(params_[0],np.array(np.log10(x_l)),params_[1])))/len(x_l)\n",
    "                    std_er = np.sqrt(std_er)\n",
    "                    long_dict['powerlaw'] = (params_, std_er)\n",
    "                else:\n",
    "                    params_, cv_ = scipy.optimize.curve_fit(linear_function, np.log10(x_nl), np.log10(y_nl))\n",
    "                    std_er=sum(np.square(np.log10(y_nl)-linear_function(params_[0],np.array(np.log10(x_nl)),params_[1])))/len(x_nl)\n",
    "                    std_er = np.sqrt(std_er)\n",
    "                    long_dict['powerlaw'] = (params_, std_er)\n",
    "\n",
    "        if indicator == 2:\n",
    "            long_dict['empty'] = ([np.nan, np.nan], np.nan)\n",
    "            \n",
    "        coefficient_dict[i] = (short_dict, long_dict)\n",
    "        \n",
    "    return coefficient_dict"
   ]
  },
  {
   "cell_type": "code",
   "execution_count": 4,
   "id": "d0652c42",
   "metadata": {},
   "outputs": [],
   "source": [
    "def calculations(df, patient_id, distance, df_bucket, c_id): # df is the readed csv file.\n",
    "    threshold_list = []\n",
    "    for i in range(0, 29):\n",
    "        threshold_can, dict_can = maxlikelihood(distance[c_id[3:]], i, range(3000, 10000, 100))\n",
    "        threshold_list = threshold_list + [int(threshold_can)] # belike [[1theta],[2theta],...,[29theta]]\n",
    "    filter_col = [s for s in list(df_bucket.columns) if s.endswith(c_id)]\n",
    "    record_dict = FitWithRecord(df_bucket[filter_col], distance[c_id[3:]], c_id[3:],threshold_list)\n",
    "    \n",
    "    return record_dict, threshold_list"
   ]
  },
  {
   "cell_type": "markdown",
   "id": "53b20455",
   "metadata": {},
   "source": [
    "##### Use patient with id \"PD4107a\" to show what the Intermediate parameter “distance” and \"df_bucket\" looks like."
   ]
  },
  {
   "cell_type": "code",
   "execution_count": 79,
   "id": "3e360356",
   "metadata": {
    "scrolled": true
   },
   "outputs": [
    {
     "name": "stderr",
     "output_type": "stream",
     "text": [
      "/Users/mhy/Library/Python/3.7/lib/python/site-packages/scipy/stats/_distn_infrastructure.py:1844: RuntimeWarning: invalid value encountered in true_divide\n",
      "  x = np.asarray((x - loc)/scale, dtype=dtyp)\n",
      "/Users/mhy/Library/Python/3.7/lib/python/site-packages/scipy/stats/_distn_infrastructure.py:1760: RuntimeWarning: invalid value encountered in true_divide\n",
      "  x = np.asarray((x - loc)/scale, dtype=dtyp)\n",
      "/Users/mhy/Library/Python/3.7/lib/python/site-packages/scipy/optimize/minpack.py:829: OptimizeWarning: Covariance of the parameters could not be estimated\n",
      "  category=OptimizeWarning)\n",
      "/Users/mhy/Library/Python/3.7/lib/python/site-packages/scipy/optimize/minpack.py:829: OptimizeWarning: Covariance of the parameters could not be estimated\n",
      "  category=OptimizeWarning)\n",
      "/Users/mhy/Library/Python/3.7/lib/python/site-packages/scipy/optimize/minpack.py:829: OptimizeWarning: Covariance of the parameters could not be estimated\n",
      "  category=OptimizeWarning)\n",
      "/Users/mhy/Library/Python/3.7/lib/python/site-packages/scipy/optimize/minpack.py:829: OptimizeWarning: Covariance of the parameters could not be estimated\n",
      "  category=OptimizeWarning)\n",
      "/Users/mhy/Library/Python/3.7/lib/python/site-packages/scipy/optimize/minpack.py:829: OptimizeWarning: Covariance of the parameters could not be estimated\n",
      "  category=OptimizeWarning)\n",
      "/Users/mhy/Library/Python/3.7/lib/python/site-packages/scipy/optimize/minpack.py:829: OptimizeWarning: Covariance of the parameters could not be estimated\n",
      "  category=OptimizeWarning)\n",
      "/Users/mhy/Library/Python/3.7/lib/python/site-packages/scipy/optimize/minpack.py:829: OptimizeWarning: Covariance of the parameters could not be estimated\n",
      "  category=OptimizeWarning)\n"
     ]
    },
    {
     "name": "stdout",
     "output_type": "stream",
     "text": [
      "2\n",
      "2\n"
     ]
    },
    {
     "name": "stderr",
     "output_type": "stream",
     "text": [
      "/Users/mhy/Library/Python/3.7/lib/python/site-packages/scipy/optimize/minpack.py:829: OptimizeWarning: Covariance of the parameters could not be estimated\n",
      "  category=OptimizeWarning)\n",
      "/Users/mhy/Library/Python/3.7/lib/python/site-packages/scipy/stats/_distn_infrastructure.py:1844: RuntimeWarning: invalid value encountered in true_divide\n",
      "  x = np.asarray((x - loc)/scale, dtype=dtyp)\n",
      "/Users/mhy/Library/Python/3.7/lib/python/site-packages/scipy/stats/_distn_infrastructure.py:1844: RuntimeWarning: invalid value encountered in true_divide\n",
      "  x = np.asarray((x - loc)/scale, dtype=dtyp)\n"
     ]
    }
   ],
   "source": [
    "patient_id = 'PD4107a'\n",
    "df_1 = df_breast[(df_breast[0] == patient_id) & (df_breast[1]=='subs')]\n",
    "distance, df_bucket = window_sliding(df_1,2,3,4,50000000,7000000,autosomal=True)\n",
    "record_dict, threshold_list = calculations(df_breast,'PD4107a', distance, df_bucket, 'chr6')"
   ]
  },
  {
   "cell_type": "code",
   "execution_count": 9,
   "id": "008cd888",
   "metadata": {},
   "outputs": [
    {
     "data": {
      "text/plain": [
       "dict_keys(['20', '1', '9', '11', '15', '10', '12', '4', '7', '3', '5', '2', '19', '14', '18', '16', '13', '8', '17', '21', '22', '6'])"
      ]
     },
     "execution_count": 9,
     "metadata": {},
     "output_type": "execute_result"
    }
   ],
   "source": [
    "distance.keys()"
   ]
  },
  {
   "cell_type": "code",
   "execution_count": 7,
   "id": "b15b354c",
   "metadata": {},
   "outputs": [
    {
     "data": {
      "text/html": [
       "<div>\n",
       "<style scoped>\n",
       "    .dataframe tbody tr th:only-of-type {\n",
       "        vertical-align: middle;\n",
       "    }\n",
       "\n",
       "    .dataframe tbody tr th {\n",
       "        vertical-align: top;\n",
       "    }\n",
       "\n",
       "    .dataframe thead th {\n",
       "        text-align: right;\n",
       "    }\n",
       "</style>\n",
       "<table border=\"1\" class=\"dataframe\">\n",
       "  <thead>\n",
       "    <tr style=\"text-align: right;\">\n",
       "      <th></th>\n",
       "      <th>distance_0chr20</th>\n",
       "      <th>counts_0chr20</th>\n",
       "      <th>distance_0chr1</th>\n",
       "      <th>counts_0chr1</th>\n",
       "      <th>distance_0chr9</th>\n",
       "      <th>counts_0chr9</th>\n",
       "      <th>distance_0chr11</th>\n",
       "      <th>counts_0chr11</th>\n",
       "      <th>distance_0chr15</th>\n",
       "      <th>counts_0chr15</th>\n",
       "      <th>...</th>\n",
       "      <th>distance_28chr8</th>\n",
       "      <th>counts_28chr8</th>\n",
       "      <th>distance_28chr17</th>\n",
       "      <th>counts_28chr17</th>\n",
       "      <th>distance_28chr21</th>\n",
       "      <th>counts_28chr21</th>\n",
       "      <th>distance_28chr22</th>\n",
       "      <th>counts_28chr22</th>\n",
       "      <th>distance_28chr6</th>\n",
       "      <th>counts_28chr6</th>\n",
       "    </tr>\n",
       "  </thead>\n",
       "  <tbody>\n",
       "    <tr>\n",
       "      <th>0</th>\n",
       "      <td>1.0</td>\n",
       "      <td>2.0</td>\n",
       "      <td>192998.0</td>\n",
       "      <td>1.0</td>\n",
       "      <td>350881.0</td>\n",
       "      <td>1.0</td>\n",
       "      <td>1.0</td>\n",
       "      <td>4.0</td>\n",
       "      <td>1.0</td>\n",
       "      <td>2.0</td>\n",
       "      <td>...</td>\n",
       "      <td>NaN</td>\n",
       "      <td>NaN</td>\n",
       "      <td>NaN</td>\n",
       "      <td>NaN</td>\n",
       "      <td>NaN</td>\n",
       "      <td>NaN</td>\n",
       "      <td>NaN</td>\n",
       "      <td>NaN</td>\n",
       "      <td>NaN</td>\n",
       "      <td>NaN</td>\n",
       "    </tr>\n",
       "    <tr>\n",
       "      <th>1</th>\n",
       "      <td>2.0</td>\n",
       "      <td>2.0</td>\n",
       "      <td>686401.0</td>\n",
       "      <td>1.0</td>\n",
       "      <td>263776.0</td>\n",
       "      <td>1.0</td>\n",
       "      <td>37550.0</td>\n",
       "      <td>1.0</td>\n",
       "      <td>88607.0</td>\n",
       "      <td>1.0</td>\n",
       "      <td>...</td>\n",
       "      <td>NaN</td>\n",
       "      <td>NaN</td>\n",
       "      <td>NaN</td>\n",
       "      <td>NaN</td>\n",
       "      <td>NaN</td>\n",
       "      <td>NaN</td>\n",
       "      <td>NaN</td>\n",
       "      <td>NaN</td>\n",
       "      <td>NaN</td>\n",
       "      <td>NaN</td>\n",
       "    </tr>\n",
       "    <tr>\n",
       "      <th>2</th>\n",
       "      <td>55632.0</td>\n",
       "      <td>1.0</td>\n",
       "      <td>158976.0</td>\n",
       "      <td>1.0</td>\n",
       "      <td>509035.0</td>\n",
       "      <td>1.0</td>\n",
       "      <td>1896638.0</td>\n",
       "      <td>1.0</td>\n",
       "      <td>122936.0</td>\n",
       "      <td>1.0</td>\n",
       "      <td>...</td>\n",
       "      <td>NaN</td>\n",
       "      <td>NaN</td>\n",
       "      <td>NaN</td>\n",
       "      <td>NaN</td>\n",
       "      <td>NaN</td>\n",
       "      <td>NaN</td>\n",
       "      <td>NaN</td>\n",
       "      <td>NaN</td>\n",
       "      <td>NaN</td>\n",
       "      <td>NaN</td>\n",
       "    </tr>\n",
       "    <tr>\n",
       "      <th>3</th>\n",
       "      <td>137822.0</td>\n",
       "      <td>1.0</td>\n",
       "      <td>83784.0</td>\n",
       "      <td>1.0</td>\n",
       "      <td>26690.0</td>\n",
       "      <td>1.0</td>\n",
       "      <td>73917.0</td>\n",
       "      <td>1.0</td>\n",
       "      <td>105783.0</td>\n",
       "      <td>1.0</td>\n",
       "      <td>...</td>\n",
       "      <td>NaN</td>\n",
       "      <td>NaN</td>\n",
       "      <td>NaN</td>\n",
       "      <td>NaN</td>\n",
       "      <td>NaN</td>\n",
       "      <td>NaN</td>\n",
       "      <td>NaN</td>\n",
       "      <td>NaN</td>\n",
       "      <td>NaN</td>\n",
       "      <td>NaN</td>\n",
       "    </tr>\n",
       "    <tr>\n",
       "      <th>4</th>\n",
       "      <td>446127.0</td>\n",
       "      <td>1.0</td>\n",
       "      <td>609868.0</td>\n",
       "      <td>1.0</td>\n",
       "      <td>1521219.0</td>\n",
       "      <td>1.0</td>\n",
       "      <td>359082.0</td>\n",
       "      <td>1.0</td>\n",
       "      <td>11312.0</td>\n",
       "      <td>1.0</td>\n",
       "      <td>...</td>\n",
       "      <td>NaN</td>\n",
       "      <td>NaN</td>\n",
       "      <td>NaN</td>\n",
       "      <td>NaN</td>\n",
       "      <td>NaN</td>\n",
       "      <td>NaN</td>\n",
       "      <td>NaN</td>\n",
       "      <td>NaN</td>\n",
       "      <td>NaN</td>\n",
       "      <td>NaN</td>\n",
       "    </tr>\n",
       "    <tr>\n",
       "      <th>...</th>\n",
       "      <td>...</td>\n",
       "      <td>...</td>\n",
       "      <td>...</td>\n",
       "      <td>...</td>\n",
       "      <td>...</td>\n",
       "      <td>...</td>\n",
       "      <td>...</td>\n",
       "      <td>...</td>\n",
       "      <td>...</td>\n",
       "      <td>...</td>\n",
       "      <td>...</td>\n",
       "      <td>...</td>\n",
       "      <td>...</td>\n",
       "      <td>...</td>\n",
       "      <td>...</td>\n",
       "      <td>...</td>\n",
       "      <td>...</td>\n",
       "      <td>...</td>\n",
       "      <td>...</td>\n",
       "      <td>...</td>\n",
       "      <td>...</td>\n",
       "    </tr>\n",
       "    <tr>\n",
       "      <th>479</th>\n",
       "      <td>NaN</td>\n",
       "      <td>NaN</td>\n",
       "      <td>NaN</td>\n",
       "      <td>NaN</td>\n",
       "      <td>NaN</td>\n",
       "      <td>NaN</td>\n",
       "      <td>NaN</td>\n",
       "      <td>NaN</td>\n",
       "      <td>NaN</td>\n",
       "      <td>NaN</td>\n",
       "      <td>...</td>\n",
       "      <td>NaN</td>\n",
       "      <td>NaN</td>\n",
       "      <td>NaN</td>\n",
       "      <td>NaN</td>\n",
       "      <td>NaN</td>\n",
       "      <td>NaN</td>\n",
       "      <td>NaN</td>\n",
       "      <td>NaN</td>\n",
       "      <td>NaN</td>\n",
       "      <td>NaN</td>\n",
       "    </tr>\n",
       "    <tr>\n",
       "      <th>480</th>\n",
       "      <td>NaN</td>\n",
       "      <td>NaN</td>\n",
       "      <td>NaN</td>\n",
       "      <td>NaN</td>\n",
       "      <td>NaN</td>\n",
       "      <td>NaN</td>\n",
       "      <td>NaN</td>\n",
       "      <td>NaN</td>\n",
       "      <td>NaN</td>\n",
       "      <td>NaN</td>\n",
       "      <td>...</td>\n",
       "      <td>NaN</td>\n",
       "      <td>NaN</td>\n",
       "      <td>NaN</td>\n",
       "      <td>NaN</td>\n",
       "      <td>NaN</td>\n",
       "      <td>NaN</td>\n",
       "      <td>NaN</td>\n",
       "      <td>NaN</td>\n",
       "      <td>NaN</td>\n",
       "      <td>NaN</td>\n",
       "    </tr>\n",
       "    <tr>\n",
       "      <th>481</th>\n",
       "      <td>NaN</td>\n",
       "      <td>NaN</td>\n",
       "      <td>NaN</td>\n",
       "      <td>NaN</td>\n",
       "      <td>NaN</td>\n",
       "      <td>NaN</td>\n",
       "      <td>NaN</td>\n",
       "      <td>NaN</td>\n",
       "      <td>NaN</td>\n",
       "      <td>NaN</td>\n",
       "      <td>...</td>\n",
       "      <td>NaN</td>\n",
       "      <td>NaN</td>\n",
       "      <td>NaN</td>\n",
       "      <td>NaN</td>\n",
       "      <td>NaN</td>\n",
       "      <td>NaN</td>\n",
       "      <td>NaN</td>\n",
       "      <td>NaN</td>\n",
       "      <td>NaN</td>\n",
       "      <td>NaN</td>\n",
       "    </tr>\n",
       "    <tr>\n",
       "      <th>482</th>\n",
       "      <td>NaN</td>\n",
       "      <td>NaN</td>\n",
       "      <td>NaN</td>\n",
       "      <td>NaN</td>\n",
       "      <td>NaN</td>\n",
       "      <td>NaN</td>\n",
       "      <td>NaN</td>\n",
       "      <td>NaN</td>\n",
       "      <td>NaN</td>\n",
       "      <td>NaN</td>\n",
       "      <td>...</td>\n",
       "      <td>NaN</td>\n",
       "      <td>NaN</td>\n",
       "      <td>NaN</td>\n",
       "      <td>NaN</td>\n",
       "      <td>NaN</td>\n",
       "      <td>NaN</td>\n",
       "      <td>NaN</td>\n",
       "      <td>NaN</td>\n",
       "      <td>NaN</td>\n",
       "      <td>NaN</td>\n",
       "    </tr>\n",
       "    <tr>\n",
       "      <th>483</th>\n",
       "      <td>NaN</td>\n",
       "      <td>NaN</td>\n",
       "      <td>NaN</td>\n",
       "      <td>NaN</td>\n",
       "      <td>NaN</td>\n",
       "      <td>NaN</td>\n",
       "      <td>NaN</td>\n",
       "      <td>NaN</td>\n",
       "      <td>NaN</td>\n",
       "      <td>NaN</td>\n",
       "      <td>...</td>\n",
       "      <td>NaN</td>\n",
       "      <td>NaN</td>\n",
       "      <td>NaN</td>\n",
       "      <td>NaN</td>\n",
       "      <td>NaN</td>\n",
       "      <td>NaN</td>\n",
       "      <td>NaN</td>\n",
       "      <td>NaN</td>\n",
       "      <td>NaN</td>\n",
       "      <td>NaN</td>\n",
       "    </tr>\n",
       "  </tbody>\n",
       "</table>\n",
       "<p>484 rows × 1276 columns</p>\n",
       "</div>"
      ],
      "text/plain": [
       "     distance_0chr20  counts_0chr20  distance_0chr1  counts_0chr1  \\\n",
       "0                1.0            2.0        192998.0           1.0   \n",
       "1                2.0            2.0        686401.0           1.0   \n",
       "2            55632.0            1.0        158976.0           1.0   \n",
       "3           137822.0            1.0         83784.0           1.0   \n",
       "4           446127.0            1.0        609868.0           1.0   \n",
       "..               ...            ...             ...           ...   \n",
       "479              NaN            NaN             NaN           NaN   \n",
       "480              NaN            NaN             NaN           NaN   \n",
       "481              NaN            NaN             NaN           NaN   \n",
       "482              NaN            NaN             NaN           NaN   \n",
       "483              NaN            NaN             NaN           NaN   \n",
       "\n",
       "     distance_0chr9  counts_0chr9  distance_0chr11  counts_0chr11  \\\n",
       "0          350881.0           1.0              1.0            4.0   \n",
       "1          263776.0           1.0          37550.0            1.0   \n",
       "2          509035.0           1.0        1896638.0            1.0   \n",
       "3           26690.0           1.0          73917.0            1.0   \n",
       "4         1521219.0           1.0         359082.0            1.0   \n",
       "..              ...           ...              ...            ...   \n",
       "479             NaN           NaN              NaN            NaN   \n",
       "480             NaN           NaN              NaN            NaN   \n",
       "481             NaN           NaN              NaN            NaN   \n",
       "482             NaN           NaN              NaN            NaN   \n",
       "483             NaN           NaN              NaN            NaN   \n",
       "\n",
       "     distance_0chr15  counts_0chr15  ...  distance_28chr8  counts_28chr8  \\\n",
       "0                1.0            2.0  ...              NaN            NaN   \n",
       "1            88607.0            1.0  ...              NaN            NaN   \n",
       "2           122936.0            1.0  ...              NaN            NaN   \n",
       "3           105783.0            1.0  ...              NaN            NaN   \n",
       "4            11312.0            1.0  ...              NaN            NaN   \n",
       "..               ...            ...  ...              ...            ...   \n",
       "479              NaN            NaN  ...              NaN            NaN   \n",
       "480              NaN            NaN  ...              NaN            NaN   \n",
       "481              NaN            NaN  ...              NaN            NaN   \n",
       "482              NaN            NaN  ...              NaN            NaN   \n",
       "483              NaN            NaN  ...              NaN            NaN   \n",
       "\n",
       "     distance_28chr17  counts_28chr17  distance_28chr21  counts_28chr21  \\\n",
       "0                 NaN             NaN               NaN             NaN   \n",
       "1                 NaN             NaN               NaN             NaN   \n",
       "2                 NaN             NaN               NaN             NaN   \n",
       "3                 NaN             NaN               NaN             NaN   \n",
       "4                 NaN             NaN               NaN             NaN   \n",
       "..                ...             ...               ...             ...   \n",
       "479               NaN             NaN               NaN             NaN   \n",
       "480               NaN             NaN               NaN             NaN   \n",
       "481               NaN             NaN               NaN             NaN   \n",
       "482               NaN             NaN               NaN             NaN   \n",
       "483               NaN             NaN               NaN             NaN   \n",
       "\n",
       "     distance_28chr22  counts_28chr22  distance_28chr6  counts_28chr6  \n",
       "0                 NaN             NaN              NaN            NaN  \n",
       "1                 NaN             NaN              NaN            NaN  \n",
       "2                 NaN             NaN              NaN            NaN  \n",
       "3                 NaN             NaN              NaN            NaN  \n",
       "4                 NaN             NaN              NaN            NaN  \n",
       "..                ...             ...              ...            ...  \n",
       "479               NaN             NaN              NaN            NaN  \n",
       "480               NaN             NaN              NaN            NaN  \n",
       "481               NaN             NaN              NaN            NaN  \n",
       "482               NaN             NaN              NaN            NaN  \n",
       "483               NaN             NaN              NaN            NaN  \n",
       "\n",
       "[484 rows x 1276 columns]"
      ]
     },
     "execution_count": 7,
     "metadata": {},
     "output_type": "execute_result"
    }
   ],
   "source": [
    "df_bucket"
   ]
  },
  {
   "cell_type": "markdown",
   "id": "306bd51a",
   "metadata": {},
   "source": [
    "#####  Below we fit the patients with and without kataegis mutation pattern."
   ]
  },
  {
   "cell_type": "code",
   "execution_count": 87,
   "id": "7c28b9b3",
   "metadata": {},
   "outputs": [],
   "source": [
    "k_dict = {'PD7409a':['chr8'], 'PD7404a':['chr17','chr1'], 'PD4199a':['chr5','chr8','chr1'],\\\n",
    "          'PD4103a':['chr3','chr4','chr8','chr12'], 'PD4107a':['chr6']}\n",
    "\n",
    "Nk_dict = {'PD6409a':['chr10'], 'PD6043a':['chr6'], 'PD4109a':['chr5'], 'PD4224a':['chr6'],\\\n",
    "          'PD4072a':['chr12'], 'PD4955a':['chr3'], 'PD4607a':['chr5'], 'PD4120a':['chr8']\\\n",
    "         }"
   ]
  },
  {
   "cell_type": "code",
   "execution_count": 88,
   "id": "b51469d6",
   "metadata": {
    "scrolled": true
   },
   "outputs": [
    {
     "name": "stderr",
     "output_type": "stream",
     "text": [
      "\r",
      "  0%|                                                     | 0/5 [00:00<?, ?it/s]"
     ]
    },
    {
     "name": "stdout",
     "output_type": "stream",
     "text": [
      "=======> now is sliding <=======\n",
      "=======> now is fitting <=======\n"
     ]
    },
    {
     "name": "stderr",
     "output_type": "stream",
     "text": [
      "/Users/mhy/Library/Python/3.7/lib/python/site-packages/scipy/stats/_distn_infrastructure.py:1844: RuntimeWarning: invalid value encountered in true_divide\n",
      "  x = np.asarray((x - loc)/scale, dtype=dtyp)\n",
      "/Users/mhy/Library/Python/3.7/lib/python/site-packages/scipy/stats/_distn_infrastructure.py:1760: RuntimeWarning: invalid value encountered in true_divide\n",
      "  x = np.asarray((x - loc)/scale, dtype=dtyp)\n",
      "/Users/mhy/Library/Python/3.7/lib/python/site-packages/scipy/optimize/minpack.py:829: OptimizeWarning: Covariance of the parameters could not be estimated\n",
      "  category=OptimizeWarning)\n",
      "/Users/mhy/Library/Python/3.7/lib/python/site-packages/scipy/optimize/minpack.py:829: OptimizeWarning: Covariance of the parameters could not be estimated\n",
      "  category=OptimizeWarning)\n",
      "/Users/mhy/Library/Python/3.7/lib/python/site-packages/scipy/optimize/minpack.py:829: OptimizeWarning: Covariance of the parameters could not be estimated\n",
      "  category=OptimizeWarning)\n",
      "/Users/mhy/Library/Python/3.7/lib/python/site-packages/scipy/stats/_distn_infrastructure.py:1844: RuntimeWarning: invalid value encountered in true_divide\n",
      "  x = np.asarray((x - loc)/scale, dtype=dtyp)\n",
      "/Users/mhy/Library/Python/3.7/lib/python/site-packages/scipy/optimize/minpack.py:829: OptimizeWarning: Covariance of the parameters could not be estimated\n",
      "  category=OptimizeWarning)\n",
      "/Users/mhy/Library/Python/3.7/lib/python/site-packages/scipy/optimize/minpack.py:829: OptimizeWarning: Covariance of the parameters could not be estimated\n",
      "  category=OptimizeWarning)\n",
      "/Users/mhy/Library/Python/3.7/lib/python/site-packages/scipy/stats/_distn_infrastructure.py:1844: RuntimeWarning: invalid value encountered in true_divide\n",
      "  x = np.asarray((x - loc)/scale, dtype=dtyp)\n",
      "/Users/mhy/Library/Python/3.7/lib/python/site-packages/scipy/stats/_distn_infrastructure.py:1844: RuntimeWarning: invalid value encountered in true_divide\n",
      "  x = np.asarray((x - loc)/scale, dtype=dtyp)\n",
      "/Users/mhy/Library/Python/3.7/lib/python/site-packages/scipy/stats/_distn_infrastructure.py:1844: RuntimeWarning: invalid value encountered in true_divide\n",
      "  x = np.asarray((x - loc)/scale, dtype=dtyp)\n",
      "/Users/mhy/Library/Python/3.7/lib/python/site-packages/scipy/stats/_distn_infrastructure.py:1844: RuntimeWarning: invalid value encountered in true_divide\n",
      "  x = np.asarray((x - loc)/scale, dtype=dtyp)\n",
      " 20%|████████▊                                   | 1/5 [03:43<14:53, 223.32s/it]"
     ]
    },
    {
     "name": "stdout",
     "output_type": "stream",
     "text": [
      "=======> now is sliding <=======\n",
      "=======> now is fitting <=======\n"
     ]
    },
    {
     "name": "stderr",
     "output_type": "stream",
     "text": [
      "/Users/mhy/Library/Python/3.7/lib/python/site-packages/scipy/stats/_distn_infrastructure.py:1844: RuntimeWarning: invalid value encountered in true_divide\n",
      "  x = np.asarray((x - loc)/scale, dtype=dtyp)\n",
      "/Users/mhy/Library/Python/3.7/lib/python/site-packages/scipy/stats/_distn_infrastructure.py:1760: RuntimeWarning: invalid value encountered in true_divide\n",
      "  x = np.asarray((x - loc)/scale, dtype=dtyp)\n",
      "/Users/mhy/Library/Python/3.7/lib/python/site-packages/scipy/stats/_distn_infrastructure.py:1844: RuntimeWarning: invalid value encountered in true_divide\n",
      "  x = np.asarray((x - loc)/scale, dtype=dtyp)\n"
     ]
    },
    {
     "name": "stdout",
     "output_type": "stream",
     "text": [
      "=======> now is fitting <=======\n"
     ]
    },
    {
     "name": "stderr",
     "output_type": "stream",
     "text": [
      "/Users/mhy/Library/Python/3.7/lib/python/site-packages/scipy/optimize/minpack.py:829: OptimizeWarning: Covariance of the parameters could not be estimated\n",
      "  category=OptimizeWarning)\n",
      "/Users/mhy/Library/Python/3.7/lib/python/site-packages/scipy/optimize/minpack.py:829: OptimizeWarning: Covariance of the parameters could not be estimated\n",
      "  category=OptimizeWarning)\n",
      "/Users/mhy/Library/Python/3.7/lib/python/site-packages/scipy/optimize/minpack.py:829: OptimizeWarning: Covariance of the parameters could not be estimated\n",
      "  category=OptimizeWarning)\n",
      "/Users/mhy/Library/Python/3.7/lib/python/site-packages/scipy/optimize/minpack.py:829: OptimizeWarning: Covariance of the parameters could not be estimated\n",
      "  category=OptimizeWarning)\n",
      "/Users/mhy/Library/Python/3.7/lib/python/site-packages/scipy/optimize/minpack.py:829: OptimizeWarning: Covariance of the parameters could not be estimated\n",
      "  category=OptimizeWarning)\n",
      "/Users/mhy/Library/Python/3.7/lib/python/site-packages/scipy/optimize/minpack.py:829: OptimizeWarning: Covariance of the parameters could not be estimated\n",
      "  category=OptimizeWarning)\n",
      "/Users/mhy/Library/Python/3.7/lib/python/site-packages/scipy/optimize/minpack.py:829: OptimizeWarning: Covariance of the parameters could not be estimated\n",
      "  category=OptimizeWarning)\n",
      "/Users/mhy/Library/Python/3.7/lib/python/site-packages/scipy/optimize/minpack.py:829: OptimizeWarning: Covariance of the parameters could not be estimated\n",
      "  category=OptimizeWarning)\n",
      " 40%|█████████████████▌                          | 2/5 [10:47<17:05, 341.71s/it]"
     ]
    },
    {
     "name": "stdout",
     "output_type": "stream",
     "text": [
      "=======> now is sliding <=======\n",
      "=======> now is fitting <=======\n"
     ]
    },
    {
     "name": "stderr",
     "output_type": "stream",
     "text": [
      "/Users/mhy/Library/Python/3.7/lib/python/site-packages/scipy/stats/_distn_infrastructure.py:1844: RuntimeWarning: invalid value encountered in true_divide\n",
      "  x = np.asarray((x - loc)/scale, dtype=dtyp)\n",
      "/Users/mhy/Library/Python/3.7/lib/python/site-packages/scipy/stats/_distn_infrastructure.py:1760: RuntimeWarning: invalid value encountered in true_divide\n",
      "  x = np.asarray((x - loc)/scale, dtype=dtyp)\n",
      "/Users/mhy/Library/Python/3.7/lib/python/site-packages/scipy/optimize/minpack.py:829: OptimizeWarning: Covariance of the parameters could not be estimated\n",
      "  category=OptimizeWarning)\n",
      "/Users/mhy/Library/Python/3.7/lib/python/site-packages/scipy/optimize/minpack.py:829: OptimizeWarning: Covariance of the parameters could not be estimated\n",
      "  category=OptimizeWarning)\n",
      "/Users/mhy/Library/Python/3.7/lib/python/site-packages/scipy/optimize/minpack.py:829: OptimizeWarning: Covariance of the parameters could not be estimated\n",
      "  category=OptimizeWarning)\n",
      "/Users/mhy/Library/Python/3.7/lib/python/site-packages/scipy/stats/_distn_infrastructure.py:1844: RuntimeWarning: invalid value encountered in true_divide\n",
      "  x = np.asarray((x - loc)/scale, dtype=dtyp)\n"
     ]
    },
    {
     "name": "stdout",
     "output_type": "stream",
     "text": [
      "=======> now is fitting <=======\n"
     ]
    },
    {
     "name": "stderr",
     "output_type": "stream",
     "text": [
      "/Users/mhy/Library/Python/3.7/lib/python/site-packages/scipy/optimize/minpack.py:829: OptimizeWarning: Covariance of the parameters could not be estimated\n",
      "  category=OptimizeWarning)\n"
     ]
    },
    {
     "name": "stdout",
     "output_type": "stream",
     "text": [
      "=======> now is fitting <=======\n"
     ]
    },
    {
     "name": "stderr",
     "output_type": "stream",
     "text": [
      "/Users/mhy/Library/Python/3.7/lib/python/site-packages/scipy/stats/_distn_infrastructure.py:1844: RuntimeWarning: invalid value encountered in true_divide\n",
      "  x = np.asarray((x - loc)/scale, dtype=dtyp)\n",
      "/Users/mhy/Library/Python/3.7/lib/python/site-packages/scipy/stats/_distn_infrastructure.py:1760: RuntimeWarning: invalid value encountered in true_divide\n",
      "  x = np.asarray((x - loc)/scale, dtype=dtyp)\n",
      "/Users/mhy/Library/Python/3.7/lib/python/site-packages/scipy/optimize/minpack.py:829: OptimizeWarning: Covariance of the parameters could not be estimated\n",
      "  category=OptimizeWarning)\n",
      "/Users/mhy/Library/Python/3.7/lib/python/site-packages/scipy/optimize/minpack.py:829: OptimizeWarning: Covariance of the parameters could not be estimated\n",
      "  category=OptimizeWarning)\n",
      "/Users/mhy/Library/Python/3.7/lib/python/site-packages/scipy/stats/_distn_infrastructure.py:1844: RuntimeWarning: invalid value encountered in true_divide\n",
      "  x = np.asarray((x - loc)/scale, dtype=dtyp)\n",
      "/Users/mhy/Library/Python/3.7/lib/python/site-packages/scipy/stats/_distn_infrastructure.py:1844: RuntimeWarning: invalid value encountered in true_divide\n",
      "  x = np.asarray((x - loc)/scale, dtype=dtyp)\n",
      "/Users/mhy/Library/Python/3.7/lib/python/site-packages/scipy/stats/_distn_infrastructure.py:1844: RuntimeWarning: invalid value encountered in true_divide\n",
      "  x = np.asarray((x - loc)/scale, dtype=dtyp)\n",
      "/Users/mhy/Library/Python/3.7/lib/python/site-packages/scipy/optimize/minpack.py:829: OptimizeWarning: Covariance of the parameters could not be estimated\n",
      "  category=OptimizeWarning)\n",
      " 60%|██████████████████████████▍                 | 3/5 [21:13<15:42, 471.12s/it]"
     ]
    },
    {
     "name": "stdout",
     "output_type": "stream",
     "text": [
      "=======> now is sliding <=======\n",
      "=======> now is fitting <=======\n"
     ]
    },
    {
     "name": "stderr",
     "output_type": "stream",
     "text": [
      "/Users/mhy/Library/Python/3.7/lib/python/site-packages/scipy/stats/_distn_infrastructure.py:1844: RuntimeWarning: invalid value encountered in true_divide\n",
      "  x = np.asarray((x - loc)/scale, dtype=dtyp)\n",
      "/Users/mhy/Library/Python/3.7/lib/python/site-packages/scipy/stats/_distn_infrastructure.py:1760: RuntimeWarning: invalid value encountered in true_divide\n",
      "  x = np.asarray((x - loc)/scale, dtype=dtyp)\n",
      "/Users/mhy/Library/Python/3.7/lib/python/site-packages/scipy/stats/_distn_infrastructure.py:1844: RuntimeWarning: invalid value encountered in true_divide\n",
      "  x = np.asarray((x - loc)/scale, dtype=dtyp)\n",
      "/Users/mhy/Library/Python/3.7/lib/python/site-packages/scipy/stats/_distn_infrastructure.py:1844: RuntimeWarning: invalid value encountered in true_divide\n",
      "  x = np.asarray((x - loc)/scale, dtype=dtyp)\n",
      "/Users/mhy/Library/Python/3.7/lib/python/site-packages/scipy/stats/_distn_infrastructure.py:1844: RuntimeWarning: invalid value encountered in true_divide\n",
      "  x = np.asarray((x - loc)/scale, dtype=dtyp)\n",
      "/Users/mhy/Library/Python/3.7/lib/python/site-packages/scipy/stats/_distn_infrastructure.py:1844: RuntimeWarning: invalid value encountered in true_divide\n",
      "  x = np.asarray((x - loc)/scale, dtype=dtyp)\n",
      "/Users/mhy/Library/Python/3.7/lib/python/site-packages/scipy/optimize/minpack.py:829: OptimizeWarning: Covariance of the parameters could not be estimated\n",
      "  category=OptimizeWarning)\n",
      "/Users/mhy/Library/Python/3.7/lib/python/site-packages/scipy/optimize/minpack.py:829: OptimizeWarning: Covariance of the parameters could not be estimated\n",
      "  category=OptimizeWarning)\n",
      "/Users/mhy/Library/Python/3.7/lib/python/site-packages/scipy/stats/_distn_infrastructure.py:1844: RuntimeWarning: invalid value encountered in true_divide\n",
      "  x = np.asarray((x - loc)/scale, dtype=dtyp)\n",
      "/Users/mhy/Library/Python/3.7/lib/python/site-packages/scipy/stats/_distn_infrastructure.py:1844: RuntimeWarning: invalid value encountered in true_divide\n",
      "  x = np.asarray((x - loc)/scale, dtype=dtyp)\n",
      "/Users/mhy/Library/Python/3.7/lib/python/site-packages/scipy/stats/_distn_infrastructure.py:1844: RuntimeWarning: invalid value encountered in true_divide\n",
      "  x = np.asarray((x - loc)/scale, dtype=dtyp)\n",
      "/Users/mhy/Library/Python/3.7/lib/python/site-packages/scipy/optimize/minpack.py:829: OptimizeWarning: Covariance of the parameters could not be estimated\n",
      "  category=OptimizeWarning)\n"
     ]
    },
    {
     "name": "stdout",
     "output_type": "stream",
     "text": [
      "=======> now is fitting <=======\n"
     ]
    },
    {
     "name": "stderr",
     "output_type": "stream",
     "text": [
      "/Users/mhy/Library/Python/3.7/lib/python/site-packages/scipy/stats/_distn_infrastructure.py:1844: RuntimeWarning: invalid value encountered in true_divide\n",
      "  x = np.asarray((x - loc)/scale, dtype=dtyp)\n",
      "/Users/mhy/Library/Python/3.7/lib/python/site-packages/scipy/stats/_distn_infrastructure.py:1760: RuntimeWarning: invalid value encountered in true_divide\n",
      "  x = np.asarray((x - loc)/scale, dtype=dtyp)\n",
      "/Users/mhy/Library/Python/3.7/lib/python/site-packages/scipy/optimize/minpack.py:829: OptimizeWarning: Covariance of the parameters could not be estimated\n",
      "  category=OptimizeWarning)\n",
      "/Users/mhy/Library/Python/3.7/lib/python/site-packages/scipy/optimize/minpack.py:829: OptimizeWarning: Covariance of the parameters could not be estimated\n",
      "  category=OptimizeWarning)\n",
      "/Users/mhy/Library/Python/3.7/lib/python/site-packages/scipy/optimize/minpack.py:829: OptimizeWarning: Covariance of the parameters could not be estimated\n",
      "  category=OptimizeWarning)\n",
      "/Users/mhy/Library/Python/3.7/lib/python/site-packages/scipy/optimize/minpack.py:829: OptimizeWarning: Covariance of the parameters could not be estimated\n",
      "  category=OptimizeWarning)\n",
      "/Users/mhy/Library/Python/3.7/lib/python/site-packages/scipy/stats/_distn_infrastructure.py:1844: RuntimeWarning: invalid value encountered in true_divide\n",
      "  x = np.asarray((x - loc)/scale, dtype=dtyp)\n",
      "/Users/mhy/Library/Python/3.7/lib/python/site-packages/scipy/optimize/minpack.py:829: OptimizeWarning: Covariance of the parameters could not be estimated\n",
      "  category=OptimizeWarning)\n"
     ]
    },
    {
     "name": "stdout",
     "output_type": "stream",
     "text": [
      "=======> now is fitting <=======\n"
     ]
    },
    {
     "name": "stderr",
     "output_type": "stream",
     "text": [
      "/Users/mhy/Library/Python/3.7/lib/python/site-packages/scipy/stats/_distn_infrastructure.py:1760: RuntimeWarning: invalid value encountered in true_divide\n",
      "  x = np.asarray((x - loc)/scale, dtype=dtyp)\n",
      "/Users/mhy/Library/Python/3.7/lib/python/site-packages/scipy/stats/_distn_infrastructure.py:1844: RuntimeWarning: invalid value encountered in true_divide\n",
      "  x = np.asarray((x - loc)/scale, dtype=dtyp)\n",
      "/Users/mhy/Library/Python/3.7/lib/python/site-packages/scipy/optimize/minpack.py:829: OptimizeWarning: Covariance of the parameters could not be estimated\n",
      "  category=OptimizeWarning)\n"
     ]
    },
    {
     "name": "stdout",
     "output_type": "stream",
     "text": [
      "=======> now is fitting <=======\n"
     ]
    },
    {
     "name": "stderr",
     "output_type": "stream",
     "text": [
      "/Users/mhy/Library/Python/3.7/lib/python/site-packages/scipy/stats/_distn_infrastructure.py:1844: RuntimeWarning: invalid value encountered in true_divide\n",
      "  x = np.asarray((x - loc)/scale, dtype=dtyp)\n",
      "/Users/mhy/Library/Python/3.7/lib/python/site-packages/scipy/stats/_distn_infrastructure.py:1760: RuntimeWarning: invalid value encountered in true_divide\n",
      "  x = np.asarray((x - loc)/scale, dtype=dtyp)\n",
      "/Users/mhy/Library/Python/3.7/lib/python/site-packages/scipy/stats/_distn_infrastructure.py:1844: RuntimeWarning: invalid value encountered in true_divide\n",
      "  x = np.asarray((x - loc)/scale, dtype=dtyp)\n",
      "/Users/mhy/Library/Python/3.7/lib/python/site-packages/scipy/stats/_distn_infrastructure.py:1844: RuntimeWarning: invalid value encountered in true_divide\n",
      "  x = np.asarray((x - loc)/scale, dtype=dtyp)\n",
      "/Users/mhy/Library/Python/3.7/lib/python/site-packages/scipy/stats/_distn_infrastructure.py:1844: RuntimeWarning: invalid value encountered in true_divide\n",
      "  x = np.asarray((x - loc)/scale, dtype=dtyp)\n",
      " 80%|███████████████████████████████████▏        | 4/5 [33:47<09:43, 583.18s/it]"
     ]
    },
    {
     "name": "stdout",
     "output_type": "stream",
     "text": [
      "=======> now is sliding <=======\n",
      "=======> now is fitting <=======\n"
     ]
    },
    {
     "name": "stderr",
     "output_type": "stream",
     "text": [
      "/Users/mhy/Library/Python/3.7/lib/python/site-packages/scipy/stats/_distn_infrastructure.py:1844: RuntimeWarning: invalid value encountered in true_divide\n",
      "  x = np.asarray((x - loc)/scale, dtype=dtyp)\n",
      "/Users/mhy/Library/Python/3.7/lib/python/site-packages/scipy/stats/_distn_infrastructure.py:1760: RuntimeWarning: invalid value encountered in true_divide\n",
      "  x = np.asarray((x - loc)/scale, dtype=dtyp)\n",
      "/Users/mhy/Library/Python/3.7/lib/python/site-packages/scipy/optimize/minpack.py:829: OptimizeWarning: Covariance of the parameters could not be estimated\n",
      "  category=OptimizeWarning)\n",
      "/Users/mhy/Library/Python/3.7/lib/python/site-packages/scipy/optimize/minpack.py:829: OptimizeWarning: Covariance of the parameters could not be estimated\n",
      "  category=OptimizeWarning)\n",
      "/Users/mhy/Library/Python/3.7/lib/python/site-packages/scipy/optimize/minpack.py:829: OptimizeWarning: Covariance of the parameters could not be estimated\n",
      "  category=OptimizeWarning)\n",
      "/Users/mhy/Library/Python/3.7/lib/python/site-packages/scipy/optimize/minpack.py:829: OptimizeWarning: Covariance of the parameters could not be estimated\n",
      "  category=OptimizeWarning)\n",
      "/Users/mhy/Library/Python/3.7/lib/python/site-packages/scipy/optimize/minpack.py:829: OptimizeWarning: Covariance of the parameters could not be estimated\n",
      "  category=OptimizeWarning)\n",
      "/Users/mhy/Library/Python/3.7/lib/python/site-packages/scipy/optimize/minpack.py:829: OptimizeWarning: Covariance of the parameters could not be estimated\n",
      "  category=OptimizeWarning)\n",
      "/Users/mhy/Library/Python/3.7/lib/python/site-packages/scipy/optimize/minpack.py:829: OptimizeWarning: Covariance of the parameters could not be estimated\n",
      "  category=OptimizeWarning)\n",
      "/Users/mhy/Library/Python/3.7/lib/python/site-packages/scipy/optimize/minpack.py:829: OptimizeWarning: Covariance of the parameters could not be estimated\n",
      "  category=OptimizeWarning)\n",
      "/Users/mhy/Library/Python/3.7/lib/python/site-packages/scipy/stats/_distn_infrastructure.py:1844: RuntimeWarning: invalid value encountered in true_divide\n",
      "  x = np.asarray((x - loc)/scale, dtype=dtyp)\n",
      "/Users/mhy/Library/Python/3.7/lib/python/site-packages/scipy/stats/_distn_infrastructure.py:1844: RuntimeWarning: invalid value encountered in true_divide\n",
      "  x = np.asarray((x - loc)/scale, dtype=dtyp)\n",
      "100%|████████████████████████████████████████████| 5/5 [38:50<00:00, 466.14s/it]\n"
     ]
    }
   ],
   "source": [
    "K_record_dict = {}\n",
    "\n",
    "for patient in tqdm.tqdm(k_dict.keys()):\n",
    "    K_record_dict[patient] = {}\n",
    "    patient_id = patient\n",
    "    df_1 = df_breast[(df_breast[0] == patient_id) & (df_breast[1]=='subs')]\n",
    "    print('=======> now is sliding <=======')\n",
    "    distance, df_bucket = lambda_sliding(df_1,2,3,4,50000000,7000000,autosomal=True)\n",
    "    for c in k_dict[patient_id]:\n",
    "        K_record_dict[patient][c] = {}\n",
    "        print('=======> now is fitting <=======')\n",
    "        record_dict, threshold_list = calculations(df_breast, patient_id, distance, df_bucket, c)\n",
    "        K_record_dict[patient][c]['record'] = record_dict\n",
    "        K_record_dict[patient][c]['theta'] = threshold_list"
   ]
  },
  {
   "cell_type": "code",
   "execution_count": 89,
   "id": "ec206de2",
   "metadata": {},
   "outputs": [],
   "source": [
    "f = open('/Users/mhy/Desktop/Project/AlexandrovEtAI/Round2Results/Kataegis_StdEr.pkl', 'wb')\n",
    "pickle.dump(K_record_dict, f)\n",
    "f.close()"
   ]
  },
  {
   "cell_type": "code",
   "execution_count": 90,
   "id": "f597accb",
   "metadata": {},
   "outputs": [
    {
     "name": "stderr",
     "output_type": "stream",
     "text": [
      "\r",
      "  0%|                                                     | 0/8 [00:00<?, ?it/s]"
     ]
    },
    {
     "name": "stdout",
     "output_type": "stream",
     "text": [
      "=======> now is sliding <=======\n",
      "=======> now is fitting <=======\n"
     ]
    },
    {
     "name": "stderr",
     "output_type": "stream",
     "text": [
      "/Users/mhy/Library/Python/3.7/lib/python/site-packages/scipy/stats/_distn_infrastructure.py:1844: RuntimeWarning: invalid value encountered in true_divide\n",
      "  x = np.asarray((x - loc)/scale, dtype=dtyp)\n",
      "/Users/mhy/Library/Python/3.7/lib/python/site-packages/scipy/stats/_distn_infrastructure.py:1760: RuntimeWarning: invalid value encountered in true_divide\n",
      "  x = np.asarray((x - loc)/scale, dtype=dtyp)\n",
      "/Users/mhy/Library/Python/3.7/lib/python/site-packages/scipy/stats/_distn_infrastructure.py:1844: RuntimeWarning: invalid value encountered in true_divide\n",
      "  x = np.asarray((x - loc)/scale, dtype=dtyp)\n",
      "/Users/mhy/Library/Python/3.7/lib/python/site-packages/scipy/stats/_distn_infrastructure.py:1844: RuntimeWarning: invalid value encountered in true_divide\n",
      "  x = np.asarray((x - loc)/scale, dtype=dtyp)\n",
      "/Users/mhy/Library/Python/3.7/lib/python/site-packages/scipy/stats/_distn_infrastructure.py:1844: RuntimeWarning: invalid value encountered in true_divide\n",
      "  x = np.asarray((x - loc)/scale, dtype=dtyp)\n",
      "/Users/mhy/Library/Python/3.7/lib/python/site-packages/scipy/stats/_distn_infrastructure.py:1844: RuntimeWarning: invalid value encountered in true_divide\n",
      "  x = np.asarray((x - loc)/scale, dtype=dtyp)\n",
      "/Users/mhy/Library/Python/3.7/lib/python/site-packages/scipy/stats/_distn_infrastructure.py:1844: RuntimeWarning: invalid value encountered in true_divide\n",
      "  x = np.asarray((x - loc)/scale, dtype=dtyp)\n",
      "/Users/mhy/Library/Python/3.7/lib/python/site-packages/scipy/stats/_distn_infrastructure.py:1844: RuntimeWarning: invalid value encountered in true_divide\n",
      "  x = np.asarray((x - loc)/scale, dtype=dtyp)\n",
      "/Users/mhy/Library/Python/3.7/lib/python/site-packages/scipy/stats/_distn_infrastructure.py:1844: RuntimeWarning: invalid value encountered in true_divide\n",
      "  x = np.asarray((x - loc)/scale, dtype=dtyp)\n",
      "/Users/mhy/Library/Python/3.7/lib/python/site-packages/scipy/stats/_distn_infrastructure.py:1844: RuntimeWarning: invalid value encountered in true_divide\n",
      "  x = np.asarray((x - loc)/scale, dtype=dtyp)\n",
      "/Users/mhy/Library/Python/3.7/lib/python/site-packages/scipy/optimize/minpack.py:829: OptimizeWarning: Covariance of the parameters could not be estimated\n",
      "  category=OptimizeWarning)\n",
      "/Users/mhy/Library/Python/3.7/lib/python/site-packages/scipy/optimize/minpack.py:829: OptimizeWarning: Covariance of the parameters could not be estimated\n",
      "  category=OptimizeWarning)\n",
      "/Users/mhy/Library/Python/3.7/lib/python/site-packages/scipy/optimize/minpack.py:829: OptimizeWarning: Covariance of the parameters could not be estimated\n",
      "  category=OptimizeWarning)\n",
      " 12%|█████▌                                      | 1/8 [03:39<25:38, 219.72s/it]"
     ]
    },
    {
     "name": "stdout",
     "output_type": "stream",
     "text": [
      "=======> now is sliding <=======\n",
      "=======> now is fitting <=======\n"
     ]
    },
    {
     "name": "stderr",
     "output_type": "stream",
     "text": [
      "/Users/mhy/Library/Python/3.7/lib/python/site-packages/scipy/optimize/minpack.py:829: OptimizeWarning: Covariance of the parameters could not be estimated\n",
      "  category=OptimizeWarning)\n",
      " 25%|███████████                                 | 2/8 [09:09<28:27, 284.66s/it]"
     ]
    },
    {
     "name": "stdout",
     "output_type": "stream",
     "text": [
      "=======> now is sliding <=======\n",
      "=======> now is fitting <=======\n"
     ]
    },
    {
     "name": "stderr",
     "output_type": "stream",
     "text": [
      "/Users/mhy/Library/Python/3.7/lib/python/site-packages/scipy/stats/_distn_infrastructure.py:1844: RuntimeWarning: invalid value encountered in true_divide\n",
      "  x = np.asarray((x - loc)/scale, dtype=dtyp)\n",
      "/Users/mhy/Library/Python/3.7/lib/python/site-packages/scipy/stats/_distn_infrastructure.py:1760: RuntimeWarning: invalid value encountered in true_divide\n",
      "  x = np.asarray((x - loc)/scale, dtype=dtyp)\n",
      "/Users/mhy/Library/Python/3.7/lib/python/site-packages/scipy/stats/_distn_infrastructure.py:1844: RuntimeWarning: invalid value encountered in true_divide\n",
      "  x = np.asarray((x - loc)/scale, dtype=dtyp)\n",
      "/Users/mhy/Library/Python/3.7/lib/python/site-packages/scipy/stats/_distn_infrastructure.py:1844: RuntimeWarning: invalid value encountered in true_divide\n",
      "  x = np.asarray((x - loc)/scale, dtype=dtyp)\n",
      "/Users/mhy/Library/Python/3.7/lib/python/site-packages/scipy/stats/_distn_infrastructure.py:1844: RuntimeWarning: invalid value encountered in true_divide\n",
      "  x = np.asarray((x - loc)/scale, dtype=dtyp)\n",
      "/Users/mhy/Library/Python/3.7/lib/python/site-packages/scipy/optimize/minpack.py:829: OptimizeWarning: Covariance of the parameters could not be estimated\n",
      "  category=OptimizeWarning)\n",
      "/Users/mhy/Library/Python/3.7/lib/python/site-packages/scipy/optimize/minpack.py:829: OptimizeWarning: Covariance of the parameters could not be estimated\n",
      "  category=OptimizeWarning)\n",
      "/Users/mhy/Library/Python/3.7/lib/python/site-packages/scipy/optimize/minpack.py:829: OptimizeWarning: Covariance of the parameters could not be estimated\n",
      "  category=OptimizeWarning)\n",
      "/Users/mhy/Library/Python/3.7/lib/python/site-packages/scipy/optimize/minpack.py:829: OptimizeWarning: Covariance of the parameters could not be estimated\n",
      "  category=OptimizeWarning)\n",
      "/Users/mhy/Library/Python/3.7/lib/python/site-packages/scipy/optimize/minpack.py:829: OptimizeWarning: Covariance of the parameters could not be estimated\n",
      "  category=OptimizeWarning)\n",
      "/Users/mhy/Library/Python/3.7/lib/python/site-packages/scipy/optimize/minpack.py:829: OptimizeWarning: Covariance of the parameters could not be estimated\n",
      "  category=OptimizeWarning)\n",
      "/Users/mhy/Library/Python/3.7/lib/python/site-packages/scipy/optimize/minpack.py:829: OptimizeWarning: Covariance of the parameters could not be estimated\n",
      "  category=OptimizeWarning)\n",
      "/Users/mhy/Library/Python/3.7/lib/python/site-packages/scipy/optimize/minpack.py:829: OptimizeWarning: Covariance of the parameters could not be estimated\n",
      "  category=OptimizeWarning)\n",
      "/Users/mhy/Library/Python/3.7/lib/python/site-packages/scipy/optimize/minpack.py:829: OptimizeWarning: Covariance of the parameters could not be estimated\n",
      "  category=OptimizeWarning)\n",
      "/Users/mhy/Library/Python/3.7/lib/python/site-packages/scipy/optimize/minpack.py:829: OptimizeWarning: Covariance of the parameters could not be estimated\n",
      "  category=OptimizeWarning)\n",
      "/Users/mhy/Library/Python/3.7/lib/python/site-packages/scipy/stats/_distn_infrastructure.py:1844: RuntimeWarning: invalid value encountered in true_divide\n",
      "  x = np.asarray((x - loc)/scale, dtype=dtyp)\n",
      "/Users/mhy/Library/Python/3.7/lib/python/site-packages/scipy/stats/_distn_infrastructure.py:1844: RuntimeWarning: invalid value encountered in true_divide\n",
      "  x = np.asarray((x - loc)/scale, dtype=dtyp)\n",
      "/Users/mhy/Library/Python/3.7/lib/python/site-packages/scipy/optimize/minpack.py:829: OptimizeWarning: Covariance of the parameters could not be estimated\n",
      "  category=OptimizeWarning)\n",
      "/Users/mhy/Library/Python/3.7/lib/python/site-packages/scipy/optimize/minpack.py:829: OptimizeWarning: Covariance of the parameters could not be estimated\n",
      "  category=OptimizeWarning)\n",
      "/Users/mhy/Library/Python/3.7/lib/python/site-packages/scipy/optimize/minpack.py:829: OptimizeWarning: Covariance of the parameters could not be estimated\n",
      "  category=OptimizeWarning)\n",
      " 38%|████████████████▌                           | 3/8 [13:07<21:56, 263.29s/it]"
     ]
    },
    {
     "name": "stdout",
     "output_type": "stream",
     "text": [
      "=======> now is sliding <=======\n",
      "=======> now is fitting <=======\n"
     ]
    },
    {
     "name": "stderr",
     "output_type": "stream",
     "text": [
      "/Users/mhy/Library/Python/3.7/lib/python/site-packages/scipy/stats/_distn_infrastructure.py:1844: RuntimeWarning: invalid value encountered in true_divide\n",
      "  x = np.asarray((x - loc)/scale, dtype=dtyp)\n",
      "/Users/mhy/Library/Python/3.7/lib/python/site-packages/scipy/stats/_distn_infrastructure.py:1760: RuntimeWarning: invalid value encountered in true_divide\n",
      "  x = np.asarray((x - loc)/scale, dtype=dtyp)\n",
      "/Users/mhy/Library/Python/3.7/lib/python/site-packages/scipy/optimize/minpack.py:829: OptimizeWarning: Covariance of the parameters could not be estimated\n",
      "  category=OptimizeWarning)\n",
      "/Users/mhy/Library/Python/3.7/lib/python/site-packages/scipy/optimize/minpack.py:829: OptimizeWarning: Covariance of the parameters could not be estimated\n",
      "  category=OptimizeWarning)\n",
      "/Users/mhy/Library/Python/3.7/lib/python/site-packages/scipy/stats/_distn_infrastructure.py:1844: RuntimeWarning: invalid value encountered in true_divide\n",
      "  x = np.asarray((x - loc)/scale, dtype=dtyp)\n",
      "/Users/mhy/Library/Python/3.7/lib/python/site-packages/scipy/stats/_distn_infrastructure.py:1844: RuntimeWarning: invalid value encountered in true_divide\n",
      "  x = np.asarray((x - loc)/scale, dtype=dtyp)\n",
      "/Users/mhy/Library/Python/3.7/lib/python/site-packages/scipy/stats/_distn_infrastructure.py:1844: RuntimeWarning: invalid value encountered in true_divide\n",
      "  x = np.asarray((x - loc)/scale, dtype=dtyp)\n",
      "/Users/mhy/Library/Python/3.7/lib/python/site-packages/scipy/optimize/minpack.py:829: OptimizeWarning: Covariance of the parameters could not be estimated\n",
      "  category=OptimizeWarning)\n",
      "/Users/mhy/Library/Python/3.7/lib/python/site-packages/scipy/optimize/minpack.py:829: OptimizeWarning: Covariance of the parameters could not be estimated\n",
      "  category=OptimizeWarning)\n",
      "/Users/mhy/Library/Python/3.7/lib/python/site-packages/scipy/stats/_distn_infrastructure.py:1844: RuntimeWarning: invalid value encountered in true_divide\n",
      "  x = np.asarray((x - loc)/scale, dtype=dtyp)\n",
      " 50%|██████████████████████                      | 4/8 [17:04<16:50, 252.65s/it]"
     ]
    },
    {
     "name": "stdout",
     "output_type": "stream",
     "text": [
      "=======> now is sliding <=======\n",
      "=======> now is fitting <=======\n"
     ]
    },
    {
     "name": "stderr",
     "output_type": "stream",
     "text": [
      "/Users/mhy/Library/Python/3.7/lib/python/site-packages/scipy/stats/_distn_infrastructure.py:1844: RuntimeWarning: invalid value encountered in true_divide\n",
      "  x = np.asarray((x - loc)/scale, dtype=dtyp)\n",
      "/Users/mhy/Library/Python/3.7/lib/python/site-packages/scipy/stats/_distn_infrastructure.py:1760: RuntimeWarning: invalid value encountered in true_divide\n",
      "  x = np.asarray((x - loc)/scale, dtype=dtyp)\n",
      "/Users/mhy/Library/Python/3.7/lib/python/site-packages/scipy/stats/_distn_infrastructure.py:1844: RuntimeWarning: invalid value encountered in true_divide\n",
      "  x = np.asarray((x - loc)/scale, dtype=dtyp)\n",
      " 62%|███████████████████████████▌                | 5/8 [22:32<13:59, 279.84s/it]"
     ]
    },
    {
     "name": "stdout",
     "output_type": "stream",
     "text": [
      "=======> now is sliding <=======\n",
      "=======> now is fitting <=======\n"
     ]
    },
    {
     "name": "stderr",
     "output_type": "stream",
     "text": [
      "/Users/mhy/Library/Python/3.7/lib/python/site-packages/scipy/stats/_distn_infrastructure.py:1844: RuntimeWarning: invalid value encountered in true_divide\n",
      "  x = np.asarray((x - loc)/scale, dtype=dtyp)\n",
      "/Users/mhy/Library/Python/3.7/lib/python/site-packages/scipy/stats/_distn_infrastructure.py:1760: RuntimeWarning: invalid value encountered in true_divide\n",
      "  x = np.asarray((x - loc)/scale, dtype=dtyp)\n",
      "/Users/mhy/Library/Python/3.7/lib/python/site-packages/scipy/optimize/minpack.py:829: OptimizeWarning: Covariance of the parameters could not be estimated\n",
      "  category=OptimizeWarning)\n",
      "/Users/mhy/Library/Python/3.7/lib/python/site-packages/scipy/optimize/minpack.py:829: OptimizeWarning: Covariance of the parameters could not be estimated\n",
      "  category=OptimizeWarning)\n",
      "/Users/mhy/Library/Python/3.7/lib/python/site-packages/scipy/optimize/minpack.py:829: OptimizeWarning: Covariance of the parameters could not be estimated\n",
      "  category=OptimizeWarning)\n",
      "/Users/mhy/Library/Python/3.7/lib/python/site-packages/scipy/optimize/minpack.py:829: OptimizeWarning: Covariance of the parameters could not be estimated\n",
      "  category=OptimizeWarning)\n",
      "/Users/mhy/Library/Python/3.7/lib/python/site-packages/scipy/stats/_distn_infrastructure.py:1844: RuntimeWarning: invalid value encountered in true_divide\n",
      "  x = np.asarray((x - loc)/scale, dtype=dtyp)\n",
      "/Users/mhy/Library/Python/3.7/lib/python/site-packages/scipy/stats/_distn_infrastructure.py:1844: RuntimeWarning: invalid value encountered in true_divide\n",
      "  x = np.asarray((x - loc)/scale, dtype=dtyp)\n",
      "/Users/mhy/Library/Python/3.7/lib/python/site-packages/scipy/optimize/minpack.py:829: OptimizeWarning: Covariance of the parameters could not be estimated\n",
      "  category=OptimizeWarning)\n",
      "/Users/mhy/Library/Python/3.7/lib/python/site-packages/scipy/optimize/minpack.py:829: OptimizeWarning: Covariance of the parameters could not be estimated\n",
      "  category=OptimizeWarning)\n",
      "/Users/mhy/Library/Python/3.7/lib/python/site-packages/scipy/stats/_distn_infrastructure.py:1844: RuntimeWarning: invalid value encountered in true_divide\n",
      "  x = np.asarray((x - loc)/scale, dtype=dtyp)\n",
      "/Users/mhy/Library/Python/3.7/lib/python/site-packages/scipy/stats/_distn_infrastructure.py:1844: RuntimeWarning: invalid value encountered in true_divide\n",
      "  x = np.asarray((x - loc)/scale, dtype=dtyp)\n",
      " 75%|█████████████████████████████████           | 6/8 [26:54<09:07, 273.96s/it]"
     ]
    },
    {
     "name": "stdout",
     "output_type": "stream",
     "text": [
      "=======> now is sliding <=======\n",
      "=======> now is fitting <=======\n"
     ]
    },
    {
     "name": "stderr",
     "output_type": "stream",
     "text": [
      "\r",
      " 88%|██████████████████████████████████████▌     | 7/8 [32:50<05:00, 300.72s/it]"
     ]
    },
    {
     "name": "stdout",
     "output_type": "stream",
     "text": [
      "=======> now is sliding <=======\n",
      "=======> now is fitting <=======\n"
     ]
    },
    {
     "name": "stderr",
     "output_type": "stream",
     "text": [
      "100%|████████████████████████████████████████████| 8/8 [40:44<00:00, 305.62s/it]\n"
     ]
    }
   ],
   "source": [
    "nk_record_dict = {}\n",
    "\n",
    "for patient in tqdm.tqdm(Nk_dict.keys()):\n",
    "    nk_record_dict[patient] = {}\n",
    "    patient_id = patient\n",
    "    df_1 = df_breast[(df_breast[0] == patient_id) & (df_breast[1]=='subs')]\n",
    "    print('=======> now is sliding <=======')\n",
    "    distance, df_bucket = lambda_sliding(df_1,2,3,4,50000000,7000000,autosomal=True)\n",
    "    for c in Nk_dict[patient_id]:\n",
    "        nk_record_dict[patient][c] = {}\n",
    "        print('=======> now is fitting <=======')\n",
    "        record_dict, threshold_list = calculations(df_breast, patient_id, distance, df_bucket, c)\n",
    "        nk_record_dict[patient][c]['record'] = record_dict\n",
    "        nk_record_dict[patient][c]['theta'] = threshold_list"
   ]
  },
  {
   "cell_type": "code",
   "execution_count": 91,
   "id": "142c4161",
   "metadata": {},
   "outputs": [],
   "source": [
    "f = open('/Users/mhy/Desktop/Project/AlexandrovEtAI/Round2Results/NonKataegis_StdEr.pkl', 'wb')\n",
    "pickle.dump(nk_record_dict, f)\n",
    "f.close()"
   ]
  },
  {
   "cell_type": "markdown",
   "id": "e3966fa7",
   "metadata": {},
   "source": [
    "##### conclude results of estimated shape values (est) and corresponding standard errors (std)"
   ]
  },
  {
   "cell_type": "code",
   "execution_count": 308,
   "id": "004ef5f9",
   "metadata": {},
   "outputs": [],
   "source": [
    "def stat_summary(record_dict, regime=0, std_erlst=[], est_palst=[], dict_EstStd = {}):\n",
    "    for k in record_dict.keys():\n",
    "        if list(record_dict[k][regime].keys())[0] == 'powerlaw':\n",
    "            std_error = list(record_dict[k][regime].values())[0][1]\n",
    "            if np.isnan(std_error)==True:\n",
    "                continue\n",
    "            std_erlst = std_erlst + [std_error] # value list\n",
    "            est_param = list(record_dict[k][regime].values())[0][0][0]\n",
    "            if np.isnan(est_param)==True:\n",
    "                continue\n",
    "            est_param = -1*est_param\n",
    "            est_palst = est_palst + [est_param]\n",
    "            \n",
    "    std_mean = sum(std_erlst)/len(std_erlst)\n",
    "    est_mean = sum(est_palst)/len(est_palst) # single value.\n",
    "    dict_EstStd['std_mean'] = std_mean\n",
    "    dict_EstStd['est_mean'] = est_mean\n",
    "    dict_EstStd['std_erlst'] = std_erlst\n",
    "    dict_EstStd['est_palst'] = est_palst\n",
    "        \n",
    "    return dict_EstStd"
   ]
  },
  {
   "cell_type": "code",
   "execution_count": 309,
   "id": "001492fc",
   "metadata": {
    "scrolled": true
   },
   "outputs": [
    {
     "name": "stderr",
     "output_type": "stream",
     "text": [
      "100%|███████████████████████████████████████████| 5/5 [00:00<00:00, 1267.77it/s]\n"
     ]
    }
   ],
   "source": [
    "over_dict = {}\n",
    "for patient in tqdm.tqdm(k_dict.keys()):\n",
    "    over_dict[patient]={}\n",
    "    for chro in k_dict[patient]:\n",
    "        temp = K_record_dict[patient][chro]['record']\n",
    "        temp_dict = stat_summary(temp)\n",
    "        over_dict[patient][chro] = copy.copy(temp_dict)"
   ]
  },
  {
   "cell_type": "code",
   "execution_count": 310,
   "id": "db354e1d",
   "metadata": {},
   "outputs": [
    {
     "name": "stdout",
     "output_type": "stream",
     "text": [
      "PD7409a _ chr8 has est: 0.7355510075033269 and std: 0.11683330100288732\n",
      "PD7404a _ chr17 has est: 1.0793228717478942 and std: 0.21684797117084983\n",
      "PD7404a _ chr1 has est: 0.8244942847599759 and std: 0.14356851504536305\n",
      "PD4199a _ chr5 has est: 0.4126862951368917 and std: 0.05005546298340019\n",
      "PD4199a _ chr8 has est: 0.513141433639735 and std: 0.15202944800800675\n",
      "PD4199a _ chr1 has est: 0.4888912718263096 and std: 0.11418061344536402\n",
      "PD4103a _ chr3 has est: 0.7246119505771703 and std: 0.15282790069768443\n",
      "PD4103a _ chr4 has est: 0.5313036169209419 and std: 0.1553716646594302\n",
      "PD4103a _ chr8 has est: 0.504712828999789 and std: 0.12534479922211833\n",
      "PD4103a _ chr12 has est: 0.7798143202932045 and std: 0.15406845443883943\n",
      "PD4107a _ chr6 has est: 0.7873897760311082 and std: 0.09501203122368565\n"
     ]
    }
   ],
   "source": [
    "for patient in over_dict.keys():\n",
    "    for chro in over_dict[patient].keys():\n",
    "        print(patient,'_',chro,'has est:',over_dict[patient][chro]['est_mean'],'and std:',over_dict[patient][chro]['std_mean'])"
   ]
  },
  {
   "cell_type": "code",
   "execution_count": 311,
   "id": "19e4f489",
   "metadata": {},
   "outputs": [
    {
     "name": "stderr",
     "output_type": "stream",
     "text": [
      "100%|███████████████████████████████████████████| 8/8 [00:00<00:00, 3947.12it/s]\n"
     ]
    }
   ],
   "source": [
    "# generate table\n",
    "NK_over_dict = {}\n",
    "for patient in tqdm.tqdm(Nk_dict.keys()):\n",
    "    NK_over_dict[patient]={}\n",
    "    for chro in Nk_dict[patient]:\n",
    "        temp_dict = nk_record_dict[patient][chro]['record']\n",
    "        temp_connk = stat_summary(temp_dict)\n",
    "        NK_over_dict[patient][chro] = copy.copy(temp_connk)"
   ]
  },
  {
   "cell_type": "code",
   "execution_count": 312,
   "id": "91e2c487",
   "metadata": {},
   "outputs": [
    {
     "name": "stdout",
     "output_type": "stream",
     "text": [
      "PD6409a _ chr10 has est: 0.019793690609768433 and std: 0.0018871156894279717\n",
      "PD6043a _ chr6 has est: 0.36218132516315904 and std: 0.16190605799536267\n",
      "PD4109a _ chr5 has est: 0.07382659172314912 and std: 0.0\n",
      "PD4224a _ chr6 has est: 0.04293087065145992 and std: 0.017139405980741058\n",
      "PD4072a _ chr12 has est: 0.38266432733632705 and std: 0.13128790819262084\n",
      "PD4955a _ chr3 has est: 0.26540860052742854 and std: 0.00801377632020183\n",
      "PD4607a _ chr5 has est: 0.5912860541039621 and std: 0.17904498989237466\n",
      "PD4120a _ chr8 has est: 0.7396974326356007 and std: 0.18281673658947653\n"
     ]
    }
   ],
   "source": [
    "for patient in NK_over_dict.keys():\n",
    "    for chro in NK_over_dict[patient].keys():\n",
    "        print(patient,'_',chro,'has est:',NK_over_dict[patient][chro]['est_mean'],'and std:',NK_over_dict[patient][chro]['std_mean'])"
   ]
  }
 ],
 "metadata": {
  "kernelspec": {
   "display_name": "Python 3 (ipykernel)",
   "language": "python",
   "name": "python3"
  },
  "language_info": {
   "codemirror_mode": {
    "name": "ipython",
    "version": 3
   },
   "file_extension": ".py",
   "mimetype": "text/x-python",
   "name": "python",
   "nbconvert_exporter": "python",
   "pygments_lexer": "ipython3",
   "version": "3.7.3"
  }
 },
 "nbformat": 4,
 "nbformat_minor": 5
}
